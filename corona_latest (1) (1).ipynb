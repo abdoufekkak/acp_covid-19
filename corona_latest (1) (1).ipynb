{
 "cells": [
  {
   "cell_type": "markdown",
   "metadata": {},
   "source": [
    "<font color=\"red\"><b><i > 1 . Importation des données actives<i><b><font>"
   ]
  },
  {
   "cell_type": "markdown",
   "metadata": {},
   "source": [
    "\n",
    "Le coronavirus  touche 124 pays dans le monde.\n",
    "\n",
    "Cette dataset, Décrit 30 pays selon les 8 variables suivantes\n",
    "\n",
    "- Country,Other : Nom du pays\n",
    "\n",
    "- TotalCases : Nombre total de personnes touchées\n",
    "\n",
    "- NewCases : nombre de peple nouvellement affecté\n",
    "\n",
    "- TotalDeaths : Décès dû au coronavirus\n",
    "- NewDeaths : nouveaux décès dus au coronavirus\n",
    "\n",
    "- TotalRecovered : nombre de personnes complètement rétablies du coronavirus (test négatif)\n",
    "\n",
    "- ActiveCases : nombre de personnes toujours touchées par le coronavirus\n",
    "\n",
    "- Grave : nombre critique de personnes dans un état grave/critique"
   ]
  },
  {
   "cell_type": "code",
   "execution_count": 1,
   "metadata": {},
   "outputs": [
    {
     "data": {
      "text/html": [
       "<div>\n",
       "<style scoped>\n",
       "    .dataframe tbody tr th:only-of-type {\n",
       "        vertical-align: middle;\n",
       "    }\n",
       "\n",
       "    .dataframe tbody tr th {\n",
       "        vertical-align: top;\n",
       "    }\n",
       "\n",
       "    .dataframe thead th {\n",
       "        text-align: right;\n",
       "    }\n",
       "</style>\n",
       "<table border=\"1\" class=\"dataframe\">\n",
       "  <thead>\n",
       "    <tr style=\"text-align: right;\">\n",
       "      <th></th>\n",
       "      <th>TotalCases</th>\n",
       "      <th>NewCases</th>\n",
       "      <th>TotalDeaths</th>\n",
       "      <th>NewDeaths</th>\n",
       "      <th>TotalRecovered</th>\n",
       "      <th>ActiveCases</th>\n",
       "      <th>Serious,Critical</th>\n",
       "      <th>TotalTests</th>\n",
       "    </tr>\n",
       "    <tr>\n",
       "      <th>Country,Other</th>\n",
       "      <th></th>\n",
       "      <th></th>\n",
       "      <th></th>\n",
       "      <th></th>\n",
       "      <th></th>\n",
       "      <th></th>\n",
       "      <th></th>\n",
       "      <th></th>\n",
       "    </tr>\n",
       "  </thead>\n",
       "  <tbody>\n",
       "    <tr>\n",
       "      <th>Netherlands</th>\n",
       "      <td>25587</td>\n",
       "      <td>0</td>\n",
       "      <td>2737.0</td>\n",
       "      <td>0.0</td>\n",
       "      <td>250.0</td>\n",
       "      <td>22600</td>\n",
       "      <td>1384.0</td>\n",
       "      <td>101534.0</td>\n",
       "    </tr>\n",
       "    <tr>\n",
       "      <th>Switzerland</th>\n",
       "      <td>25415</td>\n",
       "      <td>0</td>\n",
       "      <td>1106.0</td>\n",
       "      <td>0.0</td>\n",
       "      <td>12700.0</td>\n",
       "      <td>11609</td>\n",
       "      <td>386.0</td>\n",
       "      <td>193800.0</td>\n",
       "    </tr>\n",
       "    <tr>\n",
       "      <th>Canada</th>\n",
       "      <td>24383</td>\n",
       "      <td>0</td>\n",
       "      <td>717.0</td>\n",
       "      <td>0.0</td>\n",
       "      <td>7172.0</td>\n",
       "      <td>16494</td>\n",
       "      <td>557.0</td>\n",
       "      <td>422200.0</td>\n",
       "    </tr>\n",
       "    <tr>\n",
       "      <th>Brazil</th>\n",
       "      <td>22318</td>\n",
       "      <td>126</td>\n",
       "      <td>1230.0</td>\n",
       "      <td>7.0</td>\n",
       "      <td>173.0</td>\n",
       "      <td>20915</td>\n",
       "      <td>296.0</td>\n",
       "      <td>62985.0</td>\n",
       "    </tr>\n",
       "    <tr>\n",
       "      <th>Portugal</th>\n",
       "      <td>16585</td>\n",
       "      <td>0</td>\n",
       "      <td>504.0</td>\n",
       "      <td>0.0</td>\n",
       "      <td>277.0</td>\n",
       "      <td>15804</td>\n",
       "      <td>228.0</td>\n",
       "      <td>163616.0</td>\n",
       "    </tr>\n",
       "    <tr>\n",
       "      <th>Russia</th>\n",
       "      <td>15770</td>\n",
       "      <td>0</td>\n",
       "      <td>130.0</td>\n",
       "      <td>0.0</td>\n",
       "      <td>1291.0</td>\n",
       "      <td>14349</td>\n",
       "      <td>8.0</td>\n",
       "      <td>1200000.0</td>\n",
       "    </tr>\n",
       "    <tr>\n",
       "      <th>Austria</th>\n",
       "      <td>13945</td>\n",
       "      <td>0</td>\n",
       "      <td>350.0</td>\n",
       "      <td>0.0</td>\n",
       "      <td>6987.0</td>\n",
       "      <td>6608</td>\n",
       "      <td>243.0</td>\n",
       "      <td>144877.0</td>\n",
       "    </tr>\n",
       "    <tr>\n",
       "      <th>Israel</th>\n",
       "      <td>11145</td>\n",
       "      <td>0</td>\n",
       "      <td>103.0</td>\n",
       "      <td>0.0</td>\n",
       "      <td>1627.0</td>\n",
       "      <td>9415</td>\n",
       "      <td>183.0</td>\n",
       "      <td>117339.0</td>\n",
       "    </tr>\n",
       "    <tr>\n",
       "      <th>S. Korea</th>\n",
       "      <td>10537</td>\n",
       "      <td>25</td>\n",
       "      <td>217.0</td>\n",
       "      <td>3.0</td>\n",
       "      <td>7447.0</td>\n",
       "      <td>2873</td>\n",
       "      <td>55.0</td>\n",
       "      <td>514621.0</td>\n",
       "    </tr>\n",
       "    <tr>\n",
       "      <th>Sweden</th>\n",
       "      <td>10483</td>\n",
       "      <td>0</td>\n",
       "      <td>899.0</td>\n",
       "      <td>0.0</td>\n",
       "      <td>381.0</td>\n",
       "      <td>9203</td>\n",
       "      <td>839.0</td>\n",
       "      <td>54700.0</td>\n",
       "    </tr>\n",
       "    <tr>\n",
       "      <th>Ireland</th>\n",
       "      <td>9655</td>\n",
       "      <td>0</td>\n",
       "      <td>334.0</td>\n",
       "      <td>0.0</td>\n",
       "      <td>25.0</td>\n",
       "      <td>9296</td>\n",
       "      <td>194.0</td>\n",
       "      <td>53000.0</td>\n",
       "    </tr>\n",
       "    <tr>\n",
       "      <th>India</th>\n",
       "      <td>9240</td>\n",
       "      <td>35</td>\n",
       "      <td>331.0</td>\n",
       "      <td>0.0</td>\n",
       "      <td>1096.0</td>\n",
       "      <td>7813</td>\n",
       "      <td>0.0</td>\n",
       "      <td>189111.0</td>\n",
       "    </tr>\n",
       "    <tr>\n",
       "      <th>Peru</th>\n",
       "      <td>7519</td>\n",
       "      <td>0</td>\n",
       "      <td>193.0</td>\n",
       "      <td>0.0</td>\n",
       "      <td>1798.0</td>\n",
       "      <td>5528</td>\n",
       "      <td>134.0</td>\n",
       "      <td>76506.0</td>\n",
       "    </tr>\n",
       "    <tr>\n",
       "      <th>Ecuador</th>\n",
       "      <td>7466</td>\n",
       "      <td>0</td>\n",
       "      <td>333.0</td>\n",
       "      <td>0.0</td>\n",
       "      <td>501.0</td>\n",
       "      <td>6632</td>\n",
       "      <td>184.0</td>\n",
       "      <td>23635.0</td>\n",
       "    </tr>\n",
       "    <tr>\n",
       "      <th>Japan</th>\n",
       "      <td>7370</td>\n",
       "      <td>0</td>\n",
       "      <td>123.0</td>\n",
       "      <td>0.0</td>\n",
       "      <td>784.0</td>\n",
       "      <td>6463</td>\n",
       "      <td>129.0</td>\n",
       "      <td>77381.0</td>\n",
       "    </tr>\n",
       "    <tr>\n",
       "      <th>Chile</th>\n",
       "      <td>7213</td>\n",
       "      <td>0</td>\n",
       "      <td>80.0</td>\n",
       "      <td>0.0</td>\n",
       "      <td>2059.0</td>\n",
       "      <td>5074</td>\n",
       "      <td>387.0</td>\n",
       "      <td>82271.0</td>\n",
       "    </tr>\n",
       "    <tr>\n",
       "      <th>Poland</th>\n",
       "      <td>6674</td>\n",
       "      <td>0</td>\n",
       "      <td>232.0</td>\n",
       "      <td>0.0</td>\n",
       "      <td>439.0</td>\n",
       "      <td>6003</td>\n",
       "      <td>160.0</td>\n",
       "      <td>138007.0</td>\n",
       "    </tr>\n",
       "    <tr>\n",
       "      <th>Norway</th>\n",
       "      <td>6525</td>\n",
       "      <td>0</td>\n",
       "      <td>128.0</td>\n",
       "      <td>0.0</td>\n",
       "      <td>32.0</td>\n",
       "      <td>6365</td>\n",
       "      <td>59.0</td>\n",
       "      <td>126486.0</td>\n",
       "    </tr>\n",
       "    <tr>\n",
       "      <th>Australia</th>\n",
       "      <td>6351</td>\n",
       "      <td>38</td>\n",
       "      <td>61.0</td>\n",
       "      <td>2.0</td>\n",
       "      <td>3338.0</td>\n",
       "      <td>2952</td>\n",
       "      <td>81.0</td>\n",
       "      <td>353941.0</td>\n",
       "    </tr>\n",
       "    <tr>\n",
       "      <th>Romania</th>\n",
       "      <td>6300</td>\n",
       "      <td>0</td>\n",
       "      <td>316.0</td>\n",
       "      <td>0.0</td>\n",
       "      <td>852.0</td>\n",
       "      <td>5132</td>\n",
       "      <td>204.0</td>\n",
       "      <td>62328.0</td>\n",
       "    </tr>\n",
       "    <tr>\n",
       "      <th>Denmark</th>\n",
       "      <td>6174</td>\n",
       "      <td>0</td>\n",
       "      <td>273.0</td>\n",
       "      <td>0.0</td>\n",
       "      <td>2123.0</td>\n",
       "      <td>3778</td>\n",
       "      <td>104.0</td>\n",
       "      <td>70125.0</td>\n",
       "    </tr>\n",
       "    <tr>\n",
       "      <th>Czechia</th>\n",
       "      <td>5991</td>\n",
       "      <td>0</td>\n",
       "      <td>138.0</td>\n",
       "      <td>0.0</td>\n",
       "      <td>464.0</td>\n",
       "      <td>5389</td>\n",
       "      <td>87.0</td>\n",
       "      <td>125126.0</td>\n",
       "    </tr>\n",
       "    <tr>\n",
       "      <th>Pakistan</th>\n",
       "      <td>5374</td>\n",
       "      <td>144</td>\n",
       "      <td>93.0</td>\n",
       "      <td>2.0</td>\n",
       "      <td>1095.0</td>\n",
       "      <td>4186</td>\n",
       "      <td>44.0</td>\n",
       "      <td>65114.0</td>\n",
       "    </tr>\n",
       "    <tr>\n",
       "      <th>Malaysia</th>\n",
       "      <td>4683</td>\n",
       "      <td>0</td>\n",
       "      <td>76.0</td>\n",
       "      <td>0.0</td>\n",
       "      <td>2108.0</td>\n",
       "      <td>2499</td>\n",
       "      <td>66.0</td>\n",
       "      <td>77491.0</td>\n",
       "    </tr>\n",
       "    <tr>\n",
       "      <th>Mexico</th>\n",
       "      <td>4661</td>\n",
       "      <td>442</td>\n",
       "      <td>296.0</td>\n",
       "      <td>23.0</td>\n",
       "      <td>1843.0</td>\n",
       "      <td>2522</td>\n",
       "      <td>185.0</td>\n",
       "      <td>36594.0</td>\n",
       "    </tr>\n",
       "    <tr>\n",
       "      <th>Philippines</th>\n",
       "      <td>4648</td>\n",
       "      <td>0</td>\n",
       "      <td>297.0</td>\n",
       "      <td>0.0</td>\n",
       "      <td>197.0</td>\n",
       "      <td>4154</td>\n",
       "      <td>1.0</td>\n",
       "      <td>33814.0</td>\n",
       "    </tr>\n",
       "    <tr>\n",
       "      <th>Saudi Arabia</th>\n",
       "      <td>4462</td>\n",
       "      <td>0</td>\n",
       "      <td>59.0</td>\n",
       "      <td>0.0</td>\n",
       "      <td>761.0</td>\n",
       "      <td>3642</td>\n",
       "      <td>67.0</td>\n",
       "      <td>115585.0</td>\n",
       "    </tr>\n",
       "    <tr>\n",
       "      <th>Indonesia</th>\n",
       "      <td>4241</td>\n",
       "      <td>0</td>\n",
       "      <td>373.0</td>\n",
       "      <td>0.0</td>\n",
       "      <td>359.0</td>\n",
       "      <td>3509</td>\n",
       "      <td>0.0</td>\n",
       "      <td>27075.0</td>\n",
       "    </tr>\n",
       "    <tr>\n",
       "      <th>UAE</th>\n",
       "      <td>4123</td>\n",
       "      <td>0</td>\n",
       "      <td>22.0</td>\n",
       "      <td>0.0</td>\n",
       "      <td>680.0</td>\n",
       "      <td>3421</td>\n",
       "      <td>1.0</td>\n",
       "      <td>648195.0</td>\n",
       "    </tr>\n",
       "    <tr>\n",
       "      <th>Serbia</th>\n",
       "      <td>3630</td>\n",
       "      <td>0</td>\n",
       "      <td>80.0</td>\n",
       "      <td>0.0</td>\n",
       "      <td>400.0</td>\n",
       "      <td>3150</td>\n",
       "      <td>146.0</td>\n",
       "      <td>18312.0</td>\n",
       "    </tr>\n",
       "  </tbody>\n",
       "</table>\n",
       "</div>"
      ],
      "text/plain": [
       "               TotalCases  NewCases  TotalDeaths  NewDeaths  TotalRecovered  \\\n",
       "Country,Other                                                                 \n",
       "Netherlands         25587         0       2737.0        0.0           250.0   \n",
       "Switzerland         25415         0       1106.0        0.0         12700.0   \n",
       "Canada              24383         0        717.0        0.0          7172.0   \n",
       "Brazil              22318       126       1230.0        7.0           173.0   \n",
       "Portugal            16585         0        504.0        0.0           277.0   \n",
       "Russia              15770         0        130.0        0.0          1291.0   \n",
       "Austria             13945         0        350.0        0.0          6987.0   \n",
       "Israel              11145         0        103.0        0.0          1627.0   \n",
       "S. Korea            10537        25        217.0        3.0          7447.0   \n",
       "Sweden              10483         0        899.0        0.0           381.0   \n",
       "Ireland              9655         0        334.0        0.0            25.0   \n",
       "India                9240        35        331.0        0.0          1096.0   \n",
       "Peru                 7519         0        193.0        0.0          1798.0   \n",
       "Ecuador              7466         0        333.0        0.0           501.0   \n",
       "Japan                7370         0        123.0        0.0           784.0   \n",
       "Chile                7213         0         80.0        0.0          2059.0   \n",
       "Poland               6674         0        232.0        0.0           439.0   \n",
       "Norway               6525         0        128.0        0.0            32.0   \n",
       "Australia            6351        38         61.0        2.0          3338.0   \n",
       "Romania              6300         0        316.0        0.0           852.0   \n",
       "Denmark              6174         0        273.0        0.0          2123.0   \n",
       "Czechia              5991         0        138.0        0.0           464.0   \n",
       "Pakistan             5374       144         93.0        2.0          1095.0   \n",
       "Malaysia             4683         0         76.0        0.0          2108.0   \n",
       "Mexico               4661       442        296.0       23.0          1843.0   \n",
       "Philippines          4648         0        297.0        0.0           197.0   \n",
       "Saudi Arabia         4462         0         59.0        0.0           761.0   \n",
       "Indonesia            4241         0        373.0        0.0           359.0   \n",
       "UAE                  4123         0         22.0        0.0           680.0   \n",
       "Serbia               3630         0         80.0        0.0           400.0   \n",
       "\n",
       "               ActiveCases  Serious,Critical  TotalTests  \n",
       "Country,Other                                             \n",
       "Netherlands          22600            1384.0    101534.0  \n",
       "Switzerland          11609             386.0    193800.0  \n",
       "Canada               16494             557.0    422200.0  \n",
       "Brazil               20915             296.0     62985.0  \n",
       "Portugal             15804             228.0    163616.0  \n",
       "Russia               14349               8.0   1200000.0  \n",
       "Austria               6608             243.0    144877.0  \n",
       "Israel                9415             183.0    117339.0  \n",
       "S. Korea              2873              55.0    514621.0  \n",
       "Sweden                9203             839.0     54700.0  \n",
       "Ireland               9296             194.0     53000.0  \n",
       "India                 7813               0.0    189111.0  \n",
       "Peru                  5528             134.0     76506.0  \n",
       "Ecuador               6632             184.0     23635.0  \n",
       "Japan                 6463             129.0     77381.0  \n",
       "Chile                 5074             387.0     82271.0  \n",
       "Poland                6003             160.0    138007.0  \n",
       "Norway                6365              59.0    126486.0  \n",
       "Australia             2952              81.0    353941.0  \n",
       "Romania               5132             204.0     62328.0  \n",
       "Denmark               3778             104.0     70125.0  \n",
       "Czechia               5389              87.0    125126.0  \n",
       "Pakistan              4186              44.0     65114.0  \n",
       "Malaysia              2499              66.0     77491.0  \n",
       "Mexico                2522             185.0     36594.0  \n",
       "Philippines           4154               1.0     33814.0  \n",
       "Saudi Arabia          3642              67.0    115585.0  \n",
       "Indonesia             3509               0.0     27075.0  \n",
       "UAE                   3421               1.0    648195.0  \n",
       "Serbia                3150             146.0     18312.0  "
      ]
     },
     "execution_count": 1,
     "metadata": {},
     "output_type": "execute_result"
    }
   ],
   "source": [
    "#librairie pandas\n",
    "import pandas as pd\n",
    "import numpy as np\n",
    "\n",
    "#chargement de la première feuille de données\n",
    "X = pd.read_csv(\"corona.csv\",delimiter=',').set_index(\"Country,Other\")\n",
    "\n",
    "X.drop([\"Unnamed: 0\",\"Tot Cases/1M pop\",\"Deaths/1M pop\",\"Tests/ 1M pop\"], axis=1, inplace=True)\n",
    "\n",
    "Y=X.head(40)\n",
    "dataset=Y.tail(30)      \n",
    "dataset"
   ]
  },
  {
   "cell_type": "code",
   "execution_count": 2,
   "metadata": {},
   "outputs": [
    {
     "name": "stdout",
     "output_type": "stream",
     "text": [
      "(30, 8)\n"
     ]
    }
   ],
   "source": [
    "#dimension\n",
    "print(dataset.shape) \n",
    "\n",
    "#nombre d'observations\n",
    "n = dataset.shape[0]\n",
    "\n",
    "#nombre de variables\n",
    "p = dataset.shape[1]\n",
    "\n"
   ]
  },
  {
   "cell_type": "markdown",
   "metadata": {},
   "source": [
    "<font color=\"red\"><b><i >2 . Préparation des données<i><b><font>"
   ]
  },
  {
   "cell_type": "code",
   "execution_count": 3,
   "metadata": {},
   "outputs": [],
   "source": [
    "#scikit-learn\n",
    "import sklearn"
   ]
  },
  {
   "cell_type": "markdown",
   "metadata": {},
   "source": [
    "<font color=\"blue\"><b>Nous utilisons la classe StandardScaler pour centrer et réduire les variables afin de réaliser une ACP normée.<b> <font>"
   ]
  },
  {
   "cell_type": "code",
   "execution_count": 4,
   "metadata": {},
   "outputs": [
    {
     "name": "stdout",
     "output_type": "stream",
     "text": [
      "[[ 2.38687935 -0.3201306   4.44496502 -0.2882106  -0.60832765  2.81925875\n",
      "   4.17135946 -0.32376592]\n",
      " [ 2.36062654 -0.3201306   1.35026904 -0.2882106   3.78144759  0.75634529\n",
      "   0.61403628  0.06090109]\n",
      " [ 2.20310966 -0.3201306   0.61217172 -0.2882106   1.83231687  1.67321657\n",
      "   1.22355759  1.0131256 ]\n",
      " [ 1.88792326  1.17381219  1.58554942  1.34757928 -0.63547726  2.50299916\n",
      "   0.29323559 -0.4844809 ]\n",
      " [ 1.01288036 -0.3201306   0.20802074 -0.2882106  -0.59880765  1.54370968\n",
      "   0.05085285 -0.06493929]\n",
      " [ 0.88848476 -0.3201306  -0.50161524 -0.2882106  -0.24127897  1.27061905\n",
      "  -0.73332661  4.25585861]\n",
      " [ 0.60993019 -0.3201306  -0.08418231 -0.2882106   1.76708727 -0.18229816\n",
      "   0.10431963 -0.14306423]\n",
      " [ 0.18255881 -0.3201306  -0.55284565 -0.2882106  -0.12280793  0.34455091\n",
      "  -0.10954749 -0.25787315]\n",
      " [ 0.08975817 -0.02371338 -0.33653949  0.41284221  1.92927977 -0.88332461\n",
      "  -0.56579736  1.39843882]\n",
      " [ 0.081516   -0.3201306   0.9575026  -0.2882106  -0.56213805  0.30476038\n",
      "   2.22873307 -0.51902197]\n",
      " [-0.04486382 -0.3201306  -0.11454107 -0.2882106  -0.68766094  0.32221566\n",
      "  -0.07033852 -0.52610946]\n",
      " [-0.10820636  0.09485351 -0.12023333 -0.2882106  -0.31003449  0.04386968\n",
      "  -0.76184223  0.04135214]\n",
      " [-0.37088713 -0.3201306  -0.38207763 -0.2882106  -0.06251463 -0.3850046\n",
      "  -0.28420565 -0.42811038]\n",
      " [-0.37897666 -0.3201306  -0.11643849 -0.2882106  -0.51982696 -0.17779357\n",
      "  -0.10598304 -0.64853535]\n",
      " [-0.3936294  -0.3201306  -0.5148972  -0.2882106  -0.42004331 -0.20951338\n",
      "  -0.30202791 -0.42446241]\n",
      " [-0.41759272 -0.3201306  -0.59648636 -0.2882106   0.02951198 -0.47021639\n",
      "   0.61760073 -0.40407547]\n",
      " [-0.49986171 -0.3201306  -0.30807815 -0.2882106  -0.54168769 -0.29585131\n",
      "  -0.19152989 -0.17170601]\n",
      " [-0.52260397 -0.3201306  -0.50541009 -0.2882106  -0.68519279 -0.22790711\n",
      "  -0.55153955 -0.21973831]\n",
      " [-0.54916205  0.13042358 -0.63253739  0.17915794  0.48047765 -0.86849701\n",
      "  -0.47312161  0.72854638]\n",
      " [-0.55694632 -0.3201306  -0.14869467 -0.2882106  -0.39606703 -0.4593303\n",
      "  -0.034694   -0.48722001]\n",
      " [-0.57617803 -0.3201306  -0.23028383 -0.2882106   0.0520779  -0.71346412\n",
      "  -0.39113921 -0.45471347]\n",
      " [-0.6041098  -0.3201306  -0.48643586 -0.2882106  -0.53287288 -0.41109367\n",
      "  -0.45173489 -0.2254083 ]\n",
      " [-0.69828414  1.38723259 -0.57181987  0.17915794 -0.31038708 -0.63688613\n",
      "  -0.60500633 -0.47560487]\n",
      " [-0.80375329 -0.3201306  -0.60407605 -0.2882106   0.04678901 -0.95352111\n",
      "  -0.52658839 -0.42400381]\n",
      " [-0.80711121  4.92052584 -0.18664312  5.08652756 -0.04664797 -0.94920421\n",
      "  -0.10241859 -0.59450786]\n",
      " [-0.80909543 -0.3201306  -0.1847457  -0.2882106  -0.62701504 -0.64289225\n",
      "  -0.75827777 -0.60609798]\n",
      " [-0.8374851  -0.3201306  -0.63633223 -0.2882106  -0.42815294 -0.73899012\n",
      "  -0.52302394 -0.26518577]\n",
      " [-0.87121692 -0.3201306  -0.04054159 -0.2882106  -0.56989508 -0.76395304\n",
      "  -0.76184223 -0.63419361]\n",
      " [-0.88922757 -0.3201306  -0.70653686 -0.2882106  -0.45671292 -0.78046986\n",
      "  -0.75827777  1.9553234 ]\n",
      " [-0.96447546 -0.3201306  -0.59648636 -0.2882106  -0.55543879 -0.83133417\n",
      "  -0.24143222 -0.67072751]]\n"
     ]
    }
   ],
   "source": [
    "\n",
    "#classe pour standardisation\n",
    "from sklearn.preprocessing import StandardScaler\n",
    "\n",
    "#instanciation\n",
    "sc = StandardScaler()\n",
    "\n",
    "#transformation – centrage-réduction\n",
    "#Z:MATRICE CENTRé ET RéDUITE\n",
    "\n",
    "Z = sc.fit_transform(dataset) \n",
    "print(Z)\n"
   ]
  },
  {
   "cell_type": "markdown",
   "metadata": {},
   "source": [
    "<FONT COLOR=\"BLUE\"><B>verifier que la moyenne de chaque colonne =0 <B> <FONT> "
   ]
  },
  {
   "cell_type": "code",
   "execution_count": 33,
   "metadata": {},
   "outputs": [
    {
     "name": "stdout",
     "output_type": "stream",
     "text": [
      "[ 1.73934941e-16 -2.59052039e-17  3.70074342e-18 -2.59052039e-17\n",
      " -3.70074342e-18  6.29126381e-17  4.07081776e-17  5.18104078e-17]\n"
     ]
    }
   ],
   "source": [
    "#moyenne\n",
    "print(np.mean(Z,axis=0))\n"
   ]
  },
  {
   "cell_type": "markdown",
   "metadata": {},
   "source": [
    "<FONT COLOR=\"BLUE\"><B>Et les écarts-type unitaires.<B> <FONT> "
   ]
  },
  {
   "cell_type": "code",
   "execution_count": 6,
   "metadata": {},
   "outputs": [
    {
     "name": "stdout",
     "output_type": "stream",
     "text": [
      "[1. 1. 1. 1. 1. 1. 1. 1.]\n"
     ]
    }
   ],
   "source": [
    "#VERFIONS QUE LES écart-type UNITAIRES =1\n",
    "print(np.std(Z,axis=0))"
   ]
  },
  {
   "cell_type": "markdown",
   "metadata": {},
   "source": [
    "<FONT COLOR=\"red\"><B> LANCEMENT d'ACP <B> <FONT> "
   ]
  },
  {
   "cell_type": "markdown",
   "metadata": {},
   "source": [
    "<FONT COLOR=\"red\"><B><I>3 . Analyse en composantes principales avec ACP de ‘’scikit-learn’’<I><B> <FONT> "
   ]
  },
  {
   "cell_type": "markdown",
   "metadata": {},
   "source": [
    "<FONT COLOR=\"GREEN\"><B><I>1 . Instanciation et lancement des calculs!<I><B> <FONT> "
   ]
  },
  {
   "cell_type": "code",
   "execution_count": 27,
   "metadata": {},
   "outputs": [],
   "source": [
    "#classe pour l'ACP\n",
    "from sklearn.decomposition import PCA\n",
    "\n",
    "#instanciation\n",
    "acp = PCA()\n",
    "#DECOMPOSITION SUR TOUTE(FULL) LA MATRICE \n",
    "#NBRE DE COMPOSANTES=8=p => NBRE DE COMPOSANTS PRINCIPALES ON LES CHOISIT A PARTIR DE CE QU ON A EU  \n"
   ]
  },
  {
   "cell_type": "code",
   "execution_count": 28,
   "metadata": {},
   "outputs": [
    {
     "name": "stdout",
     "output_type": "stream",
     "text": [
      "[[ 6.65715303e+00  7.10047497e-01 -2.17119734e+00  5.56380401e-01\n",
      "  -1.18123306e+00 -4.67662283e-01  6.53610021e-02  2.53323088e-16]\n",
      " [ 3.18749192e+00 -3.02742052e-01  2.33719490e+00 -2.61422891e+00\n",
      "   3.84743450e-01 -3.62503712e-01  7.49659449e-02 -9.54943893e-17]\n",
      " [ 3.20803358e+00 -4.44663406e-01  1.72694006e+00 -3.77051153e-01\n",
      "   1.95111865e-01  6.63657825e-01  4.84346306e-02 -6.18794397e-17]\n",
      " [ 2.80060651e+00  2.12555471e+00 -2.94784768e-01  1.07773891e+00\n",
      "   1.60007284e+00 -2.57614928e-01 -1.58662522e-01 -2.75619970e-16]\n",
      " [ 1.35048577e+00 -3.22088950e-01 -3.11091257e-01  8.39461134e-01\n",
      "   1.08805695e+00  2.94318522e-01 -6.03680393e-02  4.27435323e-16]\n",
      " [ 7.22872673e-01 -1.33665816e+00  3.03964934e+00  3.14702903e+00\n",
      "  -3.06556500e-01  2.36107839e-02  4.86469790e-02 -4.11186041e-17]\n",
      " [ 5.51226640e-01 -4.53683748e-01  1.01662025e+00 -1.47715070e+00\n",
      "   7.83693746e-02  1.42761106e-01  1.17173327e-02  1.43361355e-16]\n",
      " [-4.83058160e-02 -4.41035700e-01 -1.42182686e-01  3.38422243e-02\n",
      "   5.30194667e-01  4.84686570e-01 -5.07611643e-02  1.14241218e-16]\n",
      " [-4.57722419e-01 -1.82466516e-01  2.37999311e+00 -7.66325085e-01\n",
      "  -6.48573404e-01 -3.19719599e-01 -2.30572592e-01  7.08729886e-17]\n",
      " [ 1.61822112e+00  4.66562905e-02 -1.55509253e+00 -9.63668062e-02\n",
      "  -1.19858200e+00  5.19077952e-01  7.84577872e-03 -3.49537007e-16]\n",
      " [-4.49851251e-02 -3.07855448e-01 -8.11324262e-01  2.60150448e-01\n",
      "   4.59862151e-01  1.45418410e-01 -6.14561881e-02 -8.48292793e-17]\n",
      " [-4.79676259e-01 -2.16323288e-01  1.47848350e-02  3.31518272e-01\n",
      "   4.99156394e-01 -3.18636007e-01  2.46358827e-01 -6.87869760e-18]\n",
      " [-6.84804558e-01 -4.17030249e-01 -3.32933141e-01 -3.33909414e-01\n",
      "   1.26103349e-01  4.86321723e-02 -4.24131137e-02  2.03676048e-17]\n",
      " [-4.58465139e-01 -3.02809936e-01 -8.57467628e-01 -9.16813898e-02\n",
      "   1.67121953e-01 -7.56912524e-03 -5.35155053e-02 -4.40855912e-17]\n",
      " [-7.41401709e-01 -4.21965922e-01 -5.19216412e-01 -9.44414460e-03\n",
      "   2.52725607e-01  1.81720830e-01 -5.50845305e-02  6.79232504e-17]\n",
      " [-4.26992757e-01 -3.70746570e-01 -4.76526036e-01 -4.96908066e-01\n",
      "  -4.79615651e-01  6.76828836e-01 -2.26206278e-02  5.27424700e-17]\n",
      " [-6.91347862e-01 -4.29505549e-01 -5.26624398e-01  1.82741008e-01\n",
      "  -4.33776445e-02  2.35126117e-02 -4.29435155e-02  5.43281011e-17]\n",
      " [-9.58167965e-01 -4.74598552e-01 -5.09898070e-01  3.22753033e-01\n",
      "   2.77426933e-01  6.48430432e-03 -5.92611254e-02  1.42375172e-17]\n",
      " [-1.14664022e+00 -9.00057692e-02  9.40213350e-01 -1.09030176e-01\n",
      "  -5.19475851e-01 -4.31986903e-02 -8.07899569e-03  1.62800176e-16]\n",
      " [-6.42951936e-01 -3.40737230e-01 -7.32797156e-01 -1.83022415e-01\n",
      "  -1.45885868e-01 -3.74164753e-02 -4.03494008e-02 -9.03166439e-17]\n",
      " [-9.08126036e-01 -4.11322991e-01 -3.31030779e-01 -5.33017131e-01\n",
      "  -6.16976216e-02 -2.22414804e-01 -3.48569871e-02  1.41603665e-17]\n",
      " [-1.01055804e+00 -4.70115669e-01 -4.72138294e-01  1.39165739e-01\n",
      "   8.85410956e-02 -3.94348811e-03 -5.06877064e-02 -2.07739221e-17]\n",
      " [-1.43622650e+00  1.02733807e+00 -1.65913186e-01 -6.73088132e-02\n",
      "   1.85876871e-01  1.28769694e-02  8.24829364e-01  1.66369313e-17]\n",
      " [-1.38930791e+00 -4.84613878e-01 -2.53130881e-01 -5.62776716e-01\n",
      "  -1.10584840e-01 -7.34528703e-02 -3.87059717e-02  2.24895604e-17]\n",
      " [-1.81379452e+00  6.90483279e+00  9.20296637e-01  9.49834305e-02\n",
      "  -4.30019977e-01  1.35326663e-01 -1.09226491e-01  8.30859719e-17]\n",
      " [-1.25541459e+00 -3.86135702e-01 -8.01738761e-01 -7.14732395e-02\n",
      "   2.04464542e-01 -4.52232752e-01 -6.11010781e-02  1.35328507e-17]\n",
      " [-1.38344930e+00 -4.98971309e-01 -4.38822933e-01 -5.41326943e-02\n",
      "  -6.50605536e-02 -1.50489096e-02 -4.78354707e-02 -1.23733065e-17]\n",
      " [-1.26914990e+00 -3.65744836e-01 -8.28832886e-01 -1.72918249e-01\n",
      "   1.06651631e-01 -6.01078007e-01 -5.63602866e-02 -6.99319080e-18]\n",
      " [-1.46225308e+00 -9.55799795e-01  1.05102773e+00  1.29152125e+00\n",
      "  -8.88431399e-01 -2.78601340e-01  1.05278365e-02 -3.86000807e-17]\n",
      " [-1.38634961e+00 -3.86808127e-01 -8.93976809e-01 -2.60539771e-01\n",
      "  -1.65385303e-01  1.02179436e-01 -5.38263847e-02  4.54457354e-17]]\n",
      "8\n"
     ]
    }
   ],
   "source": [
    "#calculs\n",
    "\n",
    "#La fonction fit_transform() renvoie en sortie les coordonnées factorielles Fik \n",
    "coord = acp.fit_transform(Z)#APPLIQUE LA MATRICE Z SUR LOBJET ACP\n",
    "print(coord)\n",
    "\n",
    "#nombre de composantes calculées\n",
    "print(acp.n_components_) # p=8\n"
   ]
  },
  {
   "cell_type": "markdown",
   "metadata": {},
   "source": [
    "<FONT COLOR=\"GREEN\"><B><I>2 . Valeurs propres et éboulis des valeurs propres!<I><B> <FONT> "
   ]
  },
  {
   "cell_type": "markdown",
   "metadata": {},
   "source": [
    "<FONT COLOR=\"blue\"><B>La propriété .explained_variance_ semble faire l’affaire pour obtenir les variances\n",
    "(valeurs propres, λk) associées aux axes factoriels.\n",
    "<B> <FONT> "
   ]
  },
  {
   "cell_type": "code",
   "execution_count": 9,
   "metadata": {},
   "outputs": [
    {
     "name": "stdout",
     "output_type": "stream",
     "text": [
      "[3.48794548e+00 2.06367405e+00 1.39224879e+00 8.61055811e-01\n",
      " 3.39646451e-01 1.00641422e-01 3.06500665e-02 1.94949017e-32]\n"
     ]
    }
   ],
   "source": [
    "\n",
    "#variance expliquée\n",
    "valeurs_propres=acp.explained_variance_\n",
    "\n",
    "print(valeurs_propres)\n"
   ]
  },
  {
   "cell_type": "markdown",
   "metadata": {},
   "source": [
    "<FONT COLOR=\"blue\"><B>PCA fournit également les proportions de variance associées aux axes\n",
    "<B> <FONT> "
   ]
  },
  {
   "cell_type": "code",
   "execution_count": 10,
   "metadata": {},
   "outputs": [
    {
     "name": "stdout",
     "output_type": "stream",
     "text": [
      "[4.21460079e-01 2.49360615e-01 1.68230062e-01 1.04044244e-01\n",
      " 4.10406129e-02 1.21608385e-02 3.70354970e-03 2.35563395e-33]\n"
     ]
    }
   ],
   "source": [
    "#proportion de variance expliquée\n",
    "print(acp.explained_variance_ratio_)\n"
   ]
  },
  {
   "cell_type": "markdown",
   "metadata": {},
   "source": [
    "<FONT COLOR=\"blue\">La première composante accapare 42,21% de l’information disponible et la deuxieme composane par 24.9%. Nous disposons de 67.11% avec les 2 premiers facteurs. \n",
    "    <FONT> "
   ]
  },
  {
   "cell_type": "markdown",
   "metadata": {},
   "source": [
    "<FONT COLOR=\"blue\"><B>construction d'éboulis des valeurs propres  <B> <FONT> "
   ]
  },
  {
   "cell_type": "code",
   "execution_count": 11,
   "metadata": {},
   "outputs": [
    {
     "data": {
      "image/png": "[encoded data removed]",
      "text/plain": [
       "<Figure size 576x576 with 1 Axes>"
      ]
     },
     "metadata": {
      "needs_background": "light"
     },
     "output_type": "display_data"
    }
   ],
   "source": [
    "\n",
    "import matplotlib.pyplot as plt\n",
    "\n",
    "#scree plot\n",
    "figure = plt.figure(figsize=(8,8))\n",
    "plt.plot(np.arange(1,len(dataset.columns)+1),valeurs_propres) \n",
    "plt.title(\"éboulis des valeurs propres\") \n",
    "plt.ylabel(\"valeurs propres\") \n",
    "plt.xlabel(\"nombre de composantes principales\") \n",
    "plt.show()"
   ]
  },
  {
   "cell_type": "markdown",
   "metadata": {},
   "source": [
    "COMMENTAIRE : on séléctionne les axes avant le décrochement "
   ]
  },
  {
   "cell_type": "markdown",
   "metadata": {},
   "source": [
    "<FONT COLOR=\"blue\"><B>Le graphique du cumul de variance restituée !  <B> <FONT> "
   ]
  },
  {
   "cell_type": "code",
   "execution_count": 12,
   "metadata": {},
   "outputs": [
    {
     "data": {
      "image/png": "[encoded data removed]",
      "text/plain": [
       "<Figure size 432x288 with 1 Axes>"
      ]
     },
     "metadata": {
      "needs_background": "light"
     },
     "output_type": "display_data"
    }
   ],
   "source": [
    "#cumul de variance expliquée \n",
    "plt.bar(np.arange(1,p+1),np.cumsum(acp.explained_variance_ratio_)) \n",
    "plt.title(\"variance expliquée vs. # nombre de facteurs\")\n",
    "plt.ylabel(\"Rapport de variance expliqué de Cumsum\") \n",
    "plt.xlabel(\"nombre de composantes principales\")\n",
    "plt.show()\n"
   ]
  },
  {
   "cell_type": "markdown",
   "metadata": {},
   "source": [
    "<FONT COLOR=\"green\"><B>3 . Détermination du nombre de facteur à retenir\n",
    " <B> <FONT> "
   ]
  },
  {
   "cell_type": "markdown",
   "metadata": {},
   "source": [
    " <FONT COLOR=\"black\"><B> avec les 2 premiers facteurs on gagne 67,11% d'information (>60%)\n",
    "    \n",
    "nous choisissons K* = 2 pour pouvoir représenter les individus et les variables !\n",
    "    <B> <FONT>"
   ]
  },
  {
   "cell_type": "markdown",
   "metadata": {},
   "source": [
    " <FONT COLOR=\"green\"><B>4 . Représentation des individus – Outils pour l’interprétation\n",
    "     <B> <FONT>"
   ]
  },
  {
   "cell_type": "markdown",
   "metadata": {},
   "source": [
    "<B> <FONT COLOR=\"blue\">a .Coordonnées factorielles:<FONT > <FONT COLOR=\"black\">\n",
    "Les coordonnées factorielles (Fik) des individus ont été collectées dans la variable coord . Nous les positionnons dans le premier , le deuxieme  plan factoriel avec leurs labels pour situer et comprendre les proximités entre les individus.! <FONT ><B>"
   ]
  },
  {
   "cell_type": "code",
   "execution_count": 13,
   "metadata": {},
   "outputs": [
    {
     "data": {
      "text/html": [
       "<div>\n",
       "<style scoped>\n",
       "    .dataframe tbody tr th:only-of-type {\n",
       "        vertical-align: middle;\n",
       "    }\n",
       "\n",
       "    .dataframe tbody tr th {\n",
       "        vertical-align: top;\n",
       "    }\n",
       "\n",
       "    .dataframe thead th {\n",
       "        text-align: right;\n",
       "    }\n",
       "</style>\n",
       "<table border=\"1\" class=\"dataframe\">\n",
       "  <thead>\n",
       "    <tr style=\"text-align: right;\">\n",
       "      <th></th>\n",
       "      <th>F1</th>\n",
       "      <th>F2</th>\n",
       "    </tr>\n",
       "  </thead>\n",
       "  <tbody>\n",
       "    <tr>\n",
       "      <th>0</th>\n",
       "      <td>6.657153</td>\n",
       "      <td>0.710047</td>\n",
       "    </tr>\n",
       "    <tr>\n",
       "      <th>1</th>\n",
       "      <td>3.187492</td>\n",
       "      <td>-0.302742</td>\n",
       "    </tr>\n",
       "    <tr>\n",
       "      <th>2</th>\n",
       "      <td>3.208034</td>\n",
       "      <td>-0.444663</td>\n",
       "    </tr>\n",
       "    <tr>\n",
       "      <th>3</th>\n",
       "      <td>2.800607</td>\n",
       "      <td>2.125555</td>\n",
       "    </tr>\n",
       "    <tr>\n",
       "      <th>4</th>\n",
       "      <td>1.350486</td>\n",
       "      <td>-0.322089</td>\n",
       "    </tr>\n",
       "    <tr>\n",
       "      <th>5</th>\n",
       "      <td>0.722873</td>\n",
       "      <td>-1.336658</td>\n",
       "    </tr>\n",
       "    <tr>\n",
       "      <th>6</th>\n",
       "      <td>0.551227</td>\n",
       "      <td>-0.453684</td>\n",
       "    </tr>\n",
       "    <tr>\n",
       "      <th>7</th>\n",
       "      <td>-0.048306</td>\n",
       "      <td>-0.441036</td>\n",
       "    </tr>\n",
       "    <tr>\n",
       "      <th>8</th>\n",
       "      <td>-0.457722</td>\n",
       "      <td>-0.182467</td>\n",
       "    </tr>\n",
       "    <tr>\n",
       "      <th>9</th>\n",
       "      <td>1.618221</td>\n",
       "      <td>0.046656</td>\n",
       "    </tr>\n",
       "    <tr>\n",
       "      <th>10</th>\n",
       "      <td>-0.044985</td>\n",
       "      <td>-0.307855</td>\n",
       "    </tr>\n",
       "    <tr>\n",
       "      <th>11</th>\n",
       "      <td>-0.479676</td>\n",
       "      <td>-0.216323</td>\n",
       "    </tr>\n",
       "    <tr>\n",
       "      <th>12</th>\n",
       "      <td>-0.684805</td>\n",
       "      <td>-0.417030</td>\n",
       "    </tr>\n",
       "    <tr>\n",
       "      <th>13</th>\n",
       "      <td>-0.458465</td>\n",
       "      <td>-0.302810</td>\n",
       "    </tr>\n",
       "    <tr>\n",
       "      <th>14</th>\n",
       "      <td>-0.741402</td>\n",
       "      <td>-0.421966</td>\n",
       "    </tr>\n",
       "    <tr>\n",
       "      <th>15</th>\n",
       "      <td>-0.426993</td>\n",
       "      <td>-0.370747</td>\n",
       "    </tr>\n",
       "    <tr>\n",
       "      <th>16</th>\n",
       "      <td>-0.691348</td>\n",
       "      <td>-0.429506</td>\n",
       "    </tr>\n",
       "    <tr>\n",
       "      <th>17</th>\n",
       "      <td>-0.958168</td>\n",
       "      <td>-0.474599</td>\n",
       "    </tr>\n",
       "    <tr>\n",
       "      <th>18</th>\n",
       "      <td>-1.146640</td>\n",
       "      <td>-0.090006</td>\n",
       "    </tr>\n",
       "    <tr>\n",
       "      <th>19</th>\n",
       "      <td>-0.642952</td>\n",
       "      <td>-0.340737</td>\n",
       "    </tr>\n",
       "    <tr>\n",
       "      <th>20</th>\n",
       "      <td>-0.908126</td>\n",
       "      <td>-0.411323</td>\n",
       "    </tr>\n",
       "    <tr>\n",
       "      <th>21</th>\n",
       "      <td>-1.010558</td>\n",
       "      <td>-0.470116</td>\n",
       "    </tr>\n",
       "    <tr>\n",
       "      <th>22</th>\n",
       "      <td>-1.436227</td>\n",
       "      <td>1.027338</td>\n",
       "    </tr>\n",
       "    <tr>\n",
       "      <th>23</th>\n",
       "      <td>-1.389308</td>\n",
       "      <td>-0.484614</td>\n",
       "    </tr>\n",
       "    <tr>\n",
       "      <th>24</th>\n",
       "      <td>-1.813795</td>\n",
       "      <td>6.904833</td>\n",
       "    </tr>\n",
       "    <tr>\n",
       "      <th>25</th>\n",
       "      <td>-1.255415</td>\n",
       "      <td>-0.386136</td>\n",
       "    </tr>\n",
       "    <tr>\n",
       "      <th>26</th>\n",
       "      <td>-1.383449</td>\n",
       "      <td>-0.498971</td>\n",
       "    </tr>\n",
       "    <tr>\n",
       "      <th>27</th>\n",
       "      <td>-1.269150</td>\n",
       "      <td>-0.365745</td>\n",
       "    </tr>\n",
       "    <tr>\n",
       "      <th>28</th>\n",
       "      <td>-1.462253</td>\n",
       "      <td>-0.955800</td>\n",
       "    </tr>\n",
       "    <tr>\n",
       "      <th>29</th>\n",
       "      <td>-1.386350</td>\n",
       "      <td>-0.386808</td>\n",
       "    </tr>\n",
       "  </tbody>\n",
       "</table>\n",
       "</div>"
      ],
      "text/plain": [
       "          F1        F2\n",
       "0   6.657153  0.710047\n",
       "1   3.187492 -0.302742\n",
       "2   3.208034 -0.444663\n",
       "3   2.800607  2.125555\n",
       "4   1.350486 -0.322089\n",
       "5   0.722873 -1.336658\n",
       "6   0.551227 -0.453684\n",
       "7  -0.048306 -0.441036\n",
       "8  -0.457722 -0.182467\n",
       "9   1.618221  0.046656\n",
       "10 -0.044985 -0.307855\n",
       "11 -0.479676 -0.216323\n",
       "12 -0.684805 -0.417030\n",
       "13 -0.458465 -0.302810\n",
       "14 -0.741402 -0.421966\n",
       "15 -0.426993 -0.370747\n",
       "16 -0.691348 -0.429506\n",
       "17 -0.958168 -0.474599\n",
       "18 -1.146640 -0.090006\n",
       "19 -0.642952 -0.340737\n",
       "20 -0.908126 -0.411323\n",
       "21 -1.010558 -0.470116\n",
       "22 -1.436227  1.027338\n",
       "23 -1.389308 -0.484614\n",
       "24 -1.813795  6.904833\n",
       "25 -1.255415 -0.386136\n",
       "26 -1.383449 -0.498971\n",
       "27 -1.269150 -0.365745\n",
       "28 -1.462253 -0.955800\n",
       "29 -1.386350 -0.386808"
      ]
     },
     "execution_count": 13,
     "metadata": {},
     "output_type": "execute_result"
    }
   ],
   "source": [
    "pd.DataFrame(coord, columns=[\"F1\", \"F2\", \"F3\", \"F4\",\"F5\", \"F6\", \"F7\", \"F8\"]).loc[:, [\"F1\", \"F2\"]]\n"
   ]
  },
  {
   "cell_type": "code",
   "execution_count": 14,
   "metadata": {},
   "outputs": [
    {
     "data": {
      "image/png": "[encoded data removed]",
      "text/plain": [
       "<Figure size 1296x1296 with 1 Axes>"
      ]
     },
     "metadata": {
      "needs_background": "light"
     },
     "output_type": "display_data"
    }
   ],
   "source": [
    "#positionnement des individus dans le premier plan \n",
    "fig, axes = plt.subplots(figsize=(18,18)) \n",
    "axes.set_xlim(-12,12) #même limites en abscisse \n",
    "axes.set_ylim(-12,12) #et en ordonnée\n",
    "\n",
    "#placement des étiquettes des observations\n",
    "for i in range(n): \n",
    "    plt.annotate(dataset.index[i],(coord[i,0],coord[i,1]))\n",
    "\n",
    "#ajouter les axes\n",
    "plt.plot([-12,12],[0,0],color='silver',linestyle='-',linewidth=1)\n",
    "plt.plot([0,0],[-12,12],color='silver',linestyle='-',linewidth=1)\n",
    "\n",
    "#affichage\n",
    "plt.show()"
   ]
  },
  {
   "cell_type": "markdown",
   "metadata": {},
   "source": [
    "Les pays qui sont proches ont un comportement similaire."
   ]
  },
  {
   "cell_type": "markdown",
   "metadata": {},
   "source": [
    "- Exemple"
   ]
  },
  {
   "cell_type": "markdown",
   "metadata": {},
   "source": [
    "Les pays \"Philippines\", \"saaudi arabic \", \"austria\"  sont similaires."
   ]
  },
  {
   "cell_type": "markdown",
   "metadata": {},
   "source": [
    "-----------------------"
   ]
  },
  {
   "cell_type": "markdown",
   "metadata": {},
   "source": [
    "<FONT COLOR=\"black\"><B>     Représentation des individus dans le plan factoriel\n",
    "<FONT COLOR=\"green\"><B>"
   ]
  },
  {
   "cell_type": "markdown",
   "metadata": {},
   "source": [
    "<FONT COLOR=\"blue\"><B>b . Qualité de représentation – Les COS² (cosinus carré). <FONT><B>"
   ]
  },
  {
   "cell_type": "code",
   "execution_count": 15,
   "metadata": {},
   "outputs": [
    {
     "name": "stdout",
     "output_type": "stream",
     "text": [
      "              ID        d_i\n",
      "0    Netherlands  51.463803\n",
      "1    Switzerland  22.833487\n",
      "2         Canada  14.094551\n",
      "3         Brazil  16.261571\n",
      "4       Portugal   4.003161\n",
      "5         Russia  21.549361\n",
      "6        Austria   3.751830\n",
      "7         Israel   0.736811\n",
      "8       S. Korea   7.070457\n",
      "9         Sweden   6.754518\n",
      "10       Ireland   1.059121\n",
      "11         India   0.798387\n",
      "12          Peru   0.885277\n",
      "13       Ecuador   1.076391\n",
      "14         Japan   1.097334\n",
      "15         Chile   1.482411\n",
      "16        Poland   0.977443\n",
      "17        Norway   1.588015\n",
      "18     Australia   2.490560\n",
      "19       Romania   1.124289\n",
      "20       Denmark   1.442058\n",
      "21       Czechia   1.494942\n",
      "22      Pakistan   3.865287\n",
      "23      Malaysia   2.564942\n",
      "24        Mexico  52.037695\n",
      "25   Philippines   2.623114\n",
      "26  Saudi Arabia   2.365148\n",
      "27     Indonesia   2.837221\n",
      "28           UAE   6.691464\n",
      "29        Serbia   2.979351\n"
     ]
    }
   ],
   "source": [
    "\n",
    "#contribution des individus dans l'inertie totale \n",
    "di = np.sum(Z**2,axis=1) \n",
    "print(pd.DataFrame({'ID':dataset.index,'d_i':di}))\n",
    "#di: les carrés des distances à l’origine des individus"
   ]
  },
  {
   "cell_type": "markdown",
   "metadata": {},
   "source": [
    "<FONT COLOR=\"blue\"><B>commentaire<FONT COLOR=\"black\"><B>"
   ]
  },
  {
   "cell_type": "code",
   "execution_count": 16,
   "metadata": {},
   "outputs": [
    {
     "name": "stdout",
     "output_type": "stream",
     "text": [
      "              id    COS2_1    COS2_2\n",
      "0    Netherlands  0.861143  0.009797\n",
      "1    Switzerland  0.444965  0.004014\n",
      "2         Canada  0.730174  0.014029\n",
      "3         Brazil  0.482327  0.277832\n",
      "4       Portugal  0.455593  0.025915\n",
      "5         Russia  0.024249  0.082910\n",
      "6        Austria  0.080987  0.054861\n",
      "7         Israel  0.003167  0.263992\n",
      "8       S. Korea  0.029632  0.004709\n",
      "9         Sweden  0.387687  0.000322\n",
      "10       Ireland  0.001911  0.089485\n",
      "11         India  0.288193  0.058613\n",
      "12          Peru  0.529729  0.196452\n",
      "13       Ecuador  0.195273  0.085186\n",
      "14         Japan  0.500920  0.162262\n",
      "15         Chile  0.122991  0.092723\n",
      "16        Poland  0.488992  0.188732\n",
      "17        Norway  0.578134  0.141840\n",
      "18     Australia  0.527907  0.003253\n",
      "19       Romania  0.367688  0.103267\n",
      "20       Denmark  0.571886  0.117323\n",
      "21       Czechia  0.683122  0.147838\n",
      "22      Pakistan  0.533659  0.273052\n",
      "23      Malaysia  0.752522  0.091562\n",
      "24        Mexico  0.063221  0.916196\n",
      "25   Philippines  0.600838  0.056841\n",
      "26  Saudi Arabia  0.809223  0.105267\n",
      "27     Indonesia  0.567718  0.047148\n",
      "28           UAE  0.319539  0.136525\n",
      "29        Serbia  0.645095  0.050219\n"
     ]
    }
   ],
   "source": [
    "\n",
    "#qualité de représentation des individus - COS2\n",
    "cos2 = coord**2 \n",
    "for j in range(p):\n",
    "    cos2[:,j] = cos2[:,j]/di\n",
    "\n",
    "print(pd.DataFrame({'id':dataset.index,'COS2_1':cos2[:,0],'COS2_2':cos2[:,1]}))\n"
   ]
  },
  {
   "cell_type": "markdown",
   "metadata": {},
   "source": [
    "<font color=\"blue\"><b>pour chaque pays, la somme des COS² sur l’ensemble des\n",
    "facteurs est égale à 1.<font><b>\n"
   ]
  },
  {
   "cell_type": "code",
   "execution_count": 30,
   "metadata": {},
   "outputs": [
    {
     "name": "stdout",
     "output_type": "stream",
     "text": [
      "[1. 1. 1. 1. 1. 1. 1. 1. 1. 1. 1. 1. 1. 1. 1. 1. 1. 1. 1. 1. 1. 1. 1. 1.\n",
      " 1. 1. 1. 1. 1. 1.]\n"
     ]
    }
   ],
   "source": [
    "\n",
    "#vérifions la théorie - somme en ligne des cos2 = 1\n",
    "print(np.sum(cos2,axis=1))\n"
   ]
  },
  {
   "cell_type": "markdown",
   "metadata": {},
   "source": [
    "<FONT COLOR=\"blue\"><B>c . Contribution des individus aux axes (CTR) :\n",
    "Elles permettent de déterminer les individus qui pèsent le plus dans la définition de chaque facteur.!<FONT><B>"
   ]
  },
  {
   "cell_type": "code",
   "execution_count": 18,
   "metadata": {},
   "outputs": [
    {
     "name": "stdout",
     "output_type": "stream",
     "text": [
      "              id     CTR_1     CTR_2\n",
      "0    Netherlands  0.423532  0.008144\n",
      "1    Switzerland  0.097097  0.001480\n",
      "2         Canada  0.098353  0.003194\n",
      "3         Brazil  0.074957  0.072976\n",
      "4       Portugal  0.017430  0.001676\n",
      "5         Russia  0.004994  0.028859\n",
      "6        Austria  0.002904  0.003325\n",
      "7         Israel  0.000022  0.003142\n",
      "8       S. Korea  0.002002  0.000538\n",
      "9         Sweden  0.025026  0.000035\n",
      "10       Ireland  0.000019  0.001531\n",
      "11         India  0.002199  0.000756\n",
      "12          Peru  0.004482  0.002809\n",
      "13       Ecuador  0.002009  0.001481\n",
      "14         Japan  0.005253  0.002876\n",
      "15         Chile  0.001742  0.002220\n",
      "16        Poland  0.004568  0.002980\n",
      "17        Norway  0.008774  0.003638\n",
      "18     Australia  0.012565  0.000131\n",
      "19       Romania  0.003951  0.001875\n",
      "20       Denmark  0.007881  0.002733\n",
      "21       Czechia  0.009760  0.003570\n",
      "22      Pakistan  0.019713  0.017048\n",
      "23      Malaysia  0.018446  0.003793\n",
      "24        Mexico  0.031440  0.770094\n",
      "25   Philippines  0.015062  0.002408\n",
      "26  Saudi Arabia  0.018291  0.004022\n",
      "27     Indonesia  0.015393  0.002161\n",
      "28           UAE  0.020434  0.014756\n",
      "29        Serbia  0.018368  0.002417\n"
     ]
    }
   ],
   "source": [
    "\n",
    "#contributions aux axes\n",
    "ctr = coord**2\n",
    "for j in range(p):\n",
    "    ctr[:,j] = ctr[:,j]/(n*valeurs_propres[j])\n",
    "\n",
    "print(pd.DataFrame({'id':dataset.index,'CTR_1':ctr[:,0],'CTR_2':ctr[:,1]}))\n"
   ]
  },
  {
   "cell_type": "markdown",
   "metadata": {},
   "source": [
    " <FONT COLOR=\"blue\"><B>Netherlands  qui est un  déterminant pour le premier axe ; pour le second, nous avons Switzerland,canada   <FONT COLOR=\"blue\"><B>"
   ]
  },
  {
   "cell_type": "markdown",
   "metadata": {},
   "source": [
    "<b><font color=\"green\">5 . Représentation des variables – Outils pour l’aide à l’interprétation!<font><b>"
   ]
  },
  {
   "cell_type": "markdown",
   "metadata": {},
   "source": [
    "<font color=\"blue\"><b>.components_ : pour calculer les vecteurs proprs<font><b>"
   ]
  },
  {
   "cell_type": "code",
   "execution_count": 20,
   "metadata": {},
   "outputs": [
    {
     "name": "stdout",
     "output_type": "stream",
     "text": [
      "[[ 5.10311385e-01 -8.52695097e-02  4.95868015e-01 -6.61935473e-02\n",
      "   1.61123981e-01  4.92705979e-01  4.58936639e-01  5.19785485e-02]\n",
      " [ 5.87041250e-03  6.83931572e-01  1.34688327e-01  6.83394310e-01\n",
      "  -3.66529277e-02  1.34065641e-02  9.37643670e-02 -1.91623290e-01]\n",
      " [ 2.39652685e-01  1.29646773e-01 -2.06912979e-01  1.60854423e-01\n",
      "   6.00718515e-01 -4.60642168e-03 -2.75031151e-01  6.48494481e-01]\n",
      " [-2.95486389e-02  7.42566333e-02 -3.00988585e-02  6.62304705e-02\n",
      "  -7.13427893e-01  3.46411882e-01 -9.96518941e-02  5.91108589e-01]\n",
      " [ 3.60515474e-01  2.38616563e-02 -2.01725047e-01 -3.09104072e-02\n",
      "  -3.74345057e-02  4.83204531e-01 -6.40076123e-01 -4.28048317e-01]\n",
      " [ 1.10594086e-01  3.42155765e-02 -8.04864211e-01  2.31719729e-02\n",
      "  -1.48915446e-03  2.16405753e-01  5.33724409e-01 -8.09906919e-02]\n",
      " [-2.49172805e-03  7.07745928e-01  1.63587658e-02 -7.04867091e-01\n",
      "   2.09775778e-02 -1.58489863e-02  2.12974660e-02  2.89730207e-02]\n",
      " [ 7.34188416e-01  5.79347564e-17 -5.90596552e-02  1.76407835e-17\n",
      "  -3.17820570e-01 -5.97050594e-01 -1.19156991e-16 -5.19574820e-17]]\n"
     ]
    }
   ],
   "source": [
    "#le champ components_ de l'objet ACP\n",
    "print(acp.components_)\n"
   ]
  },
  {
   "cell_type": "markdown",
   "metadata": {},
   "source": [
    "<b><font color=\"blue\">calcul de la corrélation <font><b>"
   ]
  },
  {
   "cell_type": "code",
   "execution_count": 21,
   "metadata": {},
   "outputs": [
    {
     "data": {
      "text/html": [
       "<div>\n",
       "<style scoped>\n",
       "    .dataframe tbody tr th:only-of-type {\n",
       "        vertical-align: middle;\n",
       "    }\n",
       "\n",
       "    .dataframe tbody tr th {\n",
       "        vertical-align: top;\n",
       "    }\n",
       "\n",
       "    .dataframe thead th {\n",
       "        text-align: right;\n",
       "    }\n",
       "</style>\n",
       "<table border=\"1\" class=\"dataframe\">\n",
       "  <thead>\n",
       "    <tr style=\"text-align: right;\">\n",
       "      <th></th>\n",
       "      <th>0</th>\n",
       "      <th>1</th>\n",
       "      <th>2</th>\n",
       "      <th>3</th>\n",
       "      <th>4</th>\n",
       "      <th>5</th>\n",
       "      <th>6</th>\n",
       "      <th>7</th>\n",
       "    </tr>\n",
       "  </thead>\n",
       "  <tbody>\n",
       "    <tr>\n",
       "      <th>TotalCases</th>\n",
       "      <td>0.953060</td>\n",
       "      <td>0.008433</td>\n",
       "      <td>0.282775</td>\n",
       "      <td>-0.027419</td>\n",
       "      <td>0.210106</td>\n",
       "      <td>0.035085</td>\n",
       "      <td>-0.000436</td>\n",
       "      <td>1.025104e-16</td>\n",
       "    </tr>\n",
       "    <tr>\n",
       "      <th>NewCases</th>\n",
       "      <td>-0.159250</td>\n",
       "      <td>0.982501</td>\n",
       "      <td>0.152975</td>\n",
       "      <td>0.068905</td>\n",
       "      <td>0.013906</td>\n",
       "      <td>0.010855</td>\n",
       "      <td>0.123906</td>\n",
       "      <td>8.089091e-33</td>\n",
       "    </tr>\n",
       "    <tr>\n",
       "      <th>TotalDeaths</th>\n",
       "      <td>0.926085</td>\n",
       "      <td>0.193486</td>\n",
       "      <td>-0.244144</td>\n",
       "      <td>-0.027930</td>\n",
       "      <td>-0.117564</td>\n",
       "      <td>-0.255335</td>\n",
       "      <td>0.002864</td>\n",
       "      <td>-8.246154e-18</td>\n",
       "    </tr>\n",
       "    <tr>\n",
       "      <th>NewDeaths</th>\n",
       "      <td>-0.123623</td>\n",
       "      <td>0.981730</td>\n",
       "      <td>0.189798</td>\n",
       "      <td>0.061457</td>\n",
       "      <td>-0.018014</td>\n",
       "      <td>0.007351</td>\n",
       "      <td>-0.123402</td>\n",
       "      <td>2.463079e-33</td>\n",
       "    </tr>\n",
       "    <tr>\n",
       "      <th>TotalRecovered</th>\n",
       "      <td>0.300916</td>\n",
       "      <td>-0.052654</td>\n",
       "      <td>0.708809</td>\n",
       "      <td>-0.662012</td>\n",
       "      <td>-0.021817</td>\n",
       "      <td>-0.000472</td>\n",
       "      <td>0.003673</td>\n",
       "      <td>-4.437543e-17</td>\n",
       "    </tr>\n",
       "    <tr>\n",
       "      <th>ActiveCases</th>\n",
       "      <td>0.920180</td>\n",
       "      <td>0.019259</td>\n",
       "      <td>-0.005435</td>\n",
       "      <td>0.321446</td>\n",
       "      <td>0.281608</td>\n",
       "      <td>0.068653</td>\n",
       "      <td>-0.002775</td>\n",
       "      <td>-8.336268e-17</td>\n",
       "    </tr>\n",
       "    <tr>\n",
       "      <th>Serious,Critical</th>\n",
       "      <td>0.857112</td>\n",
       "      <td>0.134697</td>\n",
       "      <td>-0.324519</td>\n",
       "      <td>-0.092470</td>\n",
       "      <td>-0.373031</td>\n",
       "      <td>0.169319</td>\n",
       "      <td>0.003729</td>\n",
       "      <td>-1.663719e-32</td>\n",
       "    </tr>\n",
       "    <tr>\n",
       "      <th>TotalTests</th>\n",
       "      <td>0.097075</td>\n",
       "      <td>-0.275276</td>\n",
       "      <td>0.765182</td>\n",
       "      <td>0.548508</td>\n",
       "      <td>-0.249463</td>\n",
       "      <td>-0.025694</td>\n",
       "      <td>0.005072</td>\n",
       "      <td>-7.254519e-33</td>\n",
       "    </tr>\n",
       "  </tbody>\n",
       "</table>\n",
       "</div>"
      ],
      "text/plain": [
       "                         0         1         2         3         4         5  \\\n",
       "TotalCases        0.953060  0.008433  0.282775 -0.027419  0.210106  0.035085   \n",
       "NewCases         -0.159250  0.982501  0.152975  0.068905  0.013906  0.010855   \n",
       "TotalDeaths       0.926085  0.193486 -0.244144 -0.027930 -0.117564 -0.255335   \n",
       "NewDeaths        -0.123623  0.981730  0.189798  0.061457 -0.018014  0.007351   \n",
       "TotalRecovered    0.300916 -0.052654  0.708809 -0.662012 -0.021817 -0.000472   \n",
       "ActiveCases       0.920180  0.019259 -0.005435  0.321446  0.281608  0.068653   \n",
       "Serious,Critical  0.857112  0.134697 -0.324519 -0.092470 -0.373031  0.169319   \n",
       "TotalTests        0.097075 -0.275276  0.765182  0.548508 -0.249463 -0.025694   \n",
       "\n",
       "                         6             7  \n",
       "TotalCases       -0.000436  1.025104e-16  \n",
       "NewCases          0.123906  8.089091e-33  \n",
       "TotalDeaths       0.002864 -8.246154e-18  \n",
       "NewDeaths        -0.123402  2.463079e-33  \n",
       "TotalRecovered    0.003673 -4.437543e-17  \n",
       "ActiveCases      -0.002775 -8.336268e-17  \n",
       "Serious,Critical  0.003729 -1.663719e-32  \n",
       "TotalTests        0.005072 -7.254519e-33  "
      ]
     },
     "execution_count": 21,
     "metadata": {},
     "output_type": "execute_result"
    }
   ],
   "source": [
    "\n",
    "#racine carrée des valeurs propres\n",
    "sqrt_val_propr = np.sqrt(valeurs_propres)\n",
    "\n",
    "#corrélation des variables avec les axes\n",
    "correlation = np.zeros((p,p))\n",
    "\n",
    "for k in range(p):\n",
    "    correlation[:,k] = acp.components_[k,:] * sqrt_val_propr[k]\n",
    "\n",
    "#afficher la matrice des corrélations variables x facteurs\n",
    "pd.DataFrame(correlation, index=dataset.columns)\n"
   ]
  },
  {
   "cell_type": "code",
   "execution_count": 31,
   "metadata": {},
   "outputs": [
    {
     "name": "stdout",
     "output_type": "stream",
     "text": [
      "                 id     COR_1     COR_2\n",
      "0        TotalCases  0.953060  0.008433\n",
      "1          NewCases -0.159250  0.982501\n",
      "2       TotalDeaths  0.926085  0.193486\n",
      "3         NewDeaths -0.123623  0.981730\n",
      "4    TotalRecovered  0.300916 -0.052654\n",
      "5       ActiveCases  0.920180  0.019259\n",
      "6  Serious,Critical  0.857112  0.134697\n",
      "7        TotalTests  0.097075 -0.275276\n"
     ]
    }
   ],
   "source": [
    "\n",
    "#on affiche la correlation pour les 2 premiers axes\n",
    "print(pd.DataFrame({'id':dataset.columns,'COR_1':correlation[:,0],'COR_2':correlation[:,1]}))\n"
   ]
  },
  {
   "cell_type": "markdown",
   "metadata": {},
   "source": [
    "<b> <font color=\"blue\">le cercle des corrélations <font><b>"
   ]
  },
  {
   "cell_type": "code",
   "execution_count": 32,
   "metadata": {},
   "outputs": [
    {
     "data": {
      "image/png": "[encoded data removed]",
      "text/plain": [
       "<Figure size 576x576 with 1 Axes>"
      ]
     },
     "metadata": {
      "needs_background": "light"
     },
     "output_type": "display_data"
    }
   ],
   "source": [
    "\n",
    "#cercle des corrélations\n",
    "fig, axes = plt.subplots(figsize=(8,8)) \n",
    "axes.set_xlim(-1,1)\n",
    "axes.set_ylim(-1,1)\n",
    "\n",
    "#affichage des étiquettes (noms des variables)\n",
    "for j in range(p): \n",
    "    plt.scatter(correlation[j,0],correlation[j,1])\n",
    "    plt.annotate(dataset.columns[j],(correlation[j,0],correlation[j,1]))\n",
    "\n",
    "#ajouter les axes\n",
    "plt.plot([-1,1],[0,0],color='silver',linestyle='-',linewidth=1)\n",
    "plt.plot([0,0],[-1,1],color='silver',linestyle='-',linewidth=1)\n",
    "\n",
    "#ajouter un cercle\n",
    "cercle = plt.Circle((0,0),1,color='blue',fill=False) \n",
    "axes.add_artist(cercle)\n",
    "\n",
    "#affichage\n",
    "plt.show()\n"
   ]
  },
  {
   "cell_type": "markdown",
   "metadata": {},
   "source": [
    "<font color=\"black\" > <b>Cercle des corrélations<b><font>"
   ]
  },
  {
   "cell_type": "markdown",
   "metadata": {},
   "source": [
    "<font color=\"blue\"><b>commentaire <b><font>"
   ]
  },
  {
   "cell_type": "markdown",
   "metadata": {},
   "source": [
    "Plus on se deplace vers la droite, on trouve les pays qui ont un grand nombre des cas actives et un grand nombre des cas totals et des tests totals. C'est ce qu'on trouve dans la matrice des corrélations (les variables activeCases, TotalCases et TotalTests sont corrélés positivement et fortement avec le 1er axe)."
   ]
  },
  {
   "cell_type": "markdown",
   "metadata": {},
   "source": [
    "Plus on monte vers le haut, on trouve les pays qui ont un grand nombre des nouveaux cas et un grand nombre des nouveau décés totals. C'est ce qu'on trouve dans la matrice des corrélations (ces variables sont corrélés positivement et fortement avec le 2eme axe)"
   ]
  },
  {
   "cell_type": "markdown",
   "metadata": {},
   "source": [
    "Plus on descend vers le bas, on trouve les pays qui ont un grand nombre de décès totals et des cas critiques"
   ]
  },
  {
   "cell_type": "markdown",
   "metadata": {},
   "source": [
    "<b><font color=\"blue\">a  . Qualité de représentation des variables (COS²).<font color=\"blue\"><font color=\"black\"> On peut calculer la qualité de\n",
    "représentation des variables en montant la corrélation au carré : 𝐶𝑂𝑆2(jk) = 𝑟2(jk) <b><font>"
   ]
  },
  {
   "cell_type": "code",
   "execution_count": 24,
   "metadata": {},
   "outputs": [
    {
     "name": "stdout",
     "output_type": "stream",
     "text": [
      "                 id    COS2_1    COS2_2\n",
      "0        TotalCases  0.908323  0.000071\n",
      "1          NewCases  0.025360  0.965309\n",
      "2       TotalDeaths  0.857634  0.037437\n",
      "3         NewDeaths  0.015283  0.963793\n",
      "4    TotalRecovered  0.090550  0.002772\n",
      "5       ActiveCases  0.846731  0.000371\n",
      "6  Serious,Critical  0.734641  0.018143\n",
      "7        TotalTests  0.009424  0.075777\n"
     ]
    }
   ],
   "source": [
    "\n",
    "#cosinus carré des variables\n",
    "cos2var = correlation**2\n",
    "print(pd.DataFrame({'id':dataset.columns,'COS2_1':cos2var[:,0],'COS2_2':cos2var[:,1]}))\n"
   ]
  },
  {
   "cell_type": "markdown",
   "metadata": {},
   "source": [
    "<b><font color=\"blue\">La somme en ligne :la somme des COS² d’une variable sur l’ensemble des facteurs est égale à 1 ).<b><font color=\"blue\">\n"
   ]
  },
  {
   "cell_type": "markdown",
   "metadata": {},
   "source": [
    "<b><font color=\"blue\">b  . Contribution des variables aux axes (CTR):<font color=\"blue\"><font color=\"black\"> La contribution est également basée sur le\n",
    "carré de la corrélation, mais relativisée par l’importance de l’axe \n",
    " <b><font>"
   ]
  },
  {
   "cell_type": "code",
   "execution_count": 25,
   "metadata": {},
   "outputs": [
    {
     "name": "stdout",
     "output_type": "stream",
     "text": [
      "                 id     CTR_1     CTR_2\n",
      "0        TotalCases  0.260418  0.000034\n",
      "1          NewCases  0.007271  0.467762\n",
      "2       TotalDeaths  0.245885  0.018141\n",
      "3         NewDeaths  0.004382  0.467028\n",
      "4    TotalRecovered  0.025961  0.001343\n",
      "5       ActiveCases  0.242759  0.000180\n",
      "6  Serious,Critical  0.210623  0.008792\n",
      "7        TotalTests  0.002702  0.036719\n"
     ]
    }
   ],
   "source": [
    "\n",
    "#contributions\n",
    "ctrvar = cos2var\n",
    "\n",
    "for k in range(p):\n",
    "    ctrvar[:,k] = ctrvar[:,k]/valeurs_propres[k]\n",
    "\n",
    "#on n'affiche que pour les 2 premiers axes\n",
    "print(pd.DataFrame({'id':dataset.columns,'CTR_1':ctrvar[:,0],'CTR_2':ctrvar[:,1]}))\n"
   ]
  },
  {
   "cell_type": "markdown",
   "metadata": {},
   "source": [
    "<font color=\"blue\">Les sommes en colonnes sont égales à 1 cette fois-ci.<font color=\"blue\">"
   ]
  }
 ],
 "metadata": {
  "kernelspec": {
   "display_name": "Python 3 (ipykernel)",
   "language": "python",
   "name": "python3"
  },
  "language_info": {
   "codemirror_mode": {
    "name": "ipython",
    "version": 3
   },
   "file_extension": ".py",
   "mimetype": "text/x-python",
   "name": "python",
   "nbconvert_exporter": "python",
   "pygments_lexer": "ipython3",
   "version": "3.9.7"
  }
 },
 "nbformat": 4,
 "nbformat_minor": 4
}
